{
 "cells": [
  {
   "cell_type": "markdown",
   "id": "261899a3",
   "metadata": {},
   "source": [
    "# While loop"
   ]
  },
  {
   "cell_type": "code",
   "execution_count": null,
   "id": "4a7cac18",
   "metadata": {},
   "outputs": [],
   "source": [
    "i = 0\n",
    "while (i<=10):\n",
    "    print(i)\n",
    "    i +=1 # i = i+1"
   ]
  },
  {
   "cell_type": "code",
   "execution_count": null,
   "id": "65757bdf",
   "metadata": {},
   "outputs": [],
   "source": [
    "i = 0\n",
    "while (i<=10):\n",
    "    print(i,'study mart')\n",
    "    i +=2 "
   ]
  },
  {
   "cell_type": "code",
   "execution_count": null,
   "id": "1c333ba8",
   "metadata": {},
   "outputs": [],
   "source": [
    "data = 'python'\n",
    "data[0]"
   ]
  },
  {
   "cell_type": "code",
   "execution_count": null,
   "id": "8759b7b4",
   "metadata": {},
   "outputs": [],
   "source": [
    "index=0\n",
    "while index<len(data):\n",
    "    print(data[index])\n",
    "    index = index+1"
   ]
  },
  {
   "cell_type": "code",
   "execution_count": null,
   "id": "0b3d02ea",
   "metadata": {},
   "outputs": [],
   "source": [
    "data = 'i love data science so much'\n",
    "index=0\n",
    "while index<len(data):\n",
    "    print(data[index])\n",
    "    index = index+1"
   ]
  },
  {
   "cell_type": "code",
   "execution_count": null,
   "id": "48a1ef14",
   "metadata": {},
   "outputs": [],
   "source": [
    "data = 'i love data science so much'\n",
    "data = data.split()\n",
    "index=0\n",
    "while index<len(data):\n",
    "    print(data[index])\n",
    "    index += 1"
   ]
  },
  {
   "cell_type": "code",
   "execution_count": null,
   "id": "8730aff4",
   "metadata": {},
   "outputs": [],
   "source": [
    "data[-1]"
   ]
  },
  {
   "cell_type": "code",
   "execution_count": null,
   "id": "e85b3292",
   "metadata": {},
   "outputs": [],
   "source": [
    "n = [2,3,4,55,60,77,100]\n",
    "total = 0\n",
    "index = 0\n",
    "while(index<len(n)):\n",
    "    total = total + n[index]\n",
    "    print(index,total)\n",
    "    index +=1"
   ]
  },
  {
   "cell_type": "code",
   "execution_count": null,
   "id": "b9de6068",
   "metadata": {},
   "outputs": [],
   "source": [
    "n = [2,3,4,55,60,77,100]\n",
    "total = 0\n",
    "index = 0\n",
    "while(index<len(n)):\n",
    "    total = total + n[index]\n",
    "    #print(index,total)\n",
    "    index +=1\n",
    "print(total)"
   ]
  },
  {
   "cell_type": "code",
   "execution_count": null,
   "id": "29c16386",
   "metadata": {},
   "outputs": [],
   "source": []
  }
 ],
 "metadata": {
  "kernelspec": {
   "display_name": "Python 3",
   "language": "python",
   "name": "python3"
  },
  "language_info": {
   "codemirror_mode": {
    "name": "ipython",
    "version": 3
   },
   "file_extension": ".py",
   "mimetype": "text/x-python",
   "name": "python",
   "nbconvert_exporter": "python",
   "pygments_lexer": "ipython3",
   "version": "3.8.8"
  }
 },
 "nbformat": 4,
 "nbformat_minor": 5
}
