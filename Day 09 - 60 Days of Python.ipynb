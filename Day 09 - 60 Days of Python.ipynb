{
 "cells": [
  {
   "cell_type": "code",
   "execution_count": null,
   "id": "5183ea2b",
   "metadata": {},
   "outputs": [],
   "source": [
    "data = 'python'"
   ]
  },
  {
   "cell_type": "code",
   "execution_count": null,
   "id": "7b2721ca",
   "metadata": {},
   "outputs": [],
   "source": [
    "data[0]"
   ]
  },
  {
   "cell_type": "code",
   "execution_count": null,
   "id": "ccfb7a33",
   "metadata": {},
   "outputs": [],
   "source": [
    "data[-1]"
   ]
  },
  {
   "cell_type": "code",
   "execution_count": null,
   "id": "884cf099",
   "metadata": {},
   "outputs": [],
   "source": [
    "for x in data:\n",
    "    print(x,'x')"
   ]
  },
  {
   "cell_type": "code",
   "execution_count": null,
   "id": "a9ba2b4a",
   "metadata": {},
   "outputs": [],
   "source": [
    "range(10)"
   ]
  },
  {
   "cell_type": "code",
   "execution_count": null,
   "id": "cdf13b1f",
   "metadata": {},
   "outputs": [],
   "source": [
    "for x in range(len(data)):\n",
    "    print(data[x])"
   ]
  },
  {
   "cell_type": "code",
   "execution_count": null,
   "id": "670f4f9e",
   "metadata": {},
   "outputs": [],
   "source": [
    "len(data)"
   ]
  },
  {
   "cell_type": "code",
   "execution_count": null,
   "id": "6108daa5",
   "metadata": {},
   "outputs": [],
   "source": [
    "for x in range(6):\n",
    "    print(data[x])"
   ]
  },
  {
   "cell_type": "code",
   "execution_count": null,
   "id": "a7349f01",
   "metadata": {},
   "outputs": [],
   "source": [
    "data = 'i love data science so much'\n",
    "for i in range(len(data)):\n",
    "    print(data[i])"
   ]
  },
  {
   "cell_type": "code",
   "execution_count": null,
   "id": "662ce24d",
   "metadata": {},
   "outputs": [],
   "source": [
    "data = 'i love data science so much'\n",
    "for x in range(len(data)):\n",
    "    print(data[x])"
   ]
  },
  {
   "cell_type": "code",
   "execution_count": null,
   "id": "8cf81041",
   "metadata": {},
   "outputs": [],
   "source": [
    "data.split()"
   ]
  },
  {
   "cell_type": "code",
   "execution_count": null,
   "id": "78ae1ebd",
   "metadata": {},
   "outputs": [],
   "source": [
    "data = 'i love data science so much'\n",
    "data = data.split()\n",
    "for i in range(len(data)):\n",
    "    print(data[i],i)"
   ]
  },
  {
   "cell_type": "code",
   "execution_count": null,
   "id": "6d701de8",
   "metadata": {},
   "outputs": [],
   "source": [
    "data[1]"
   ]
  },
  {
   "cell_type": "code",
   "execution_count": null,
   "id": "f53338d3",
   "metadata": {},
   "outputs": [],
   "source": [
    "n = [2,3,4,55,60,77,100]\n",
    "total = 0\n",
    "for x in n:\n",
    "    total = total+x\n",
    "    #print(total,x)\n",
    "print(total)"
   ]
  },
  {
   "cell_type": "code",
   "execution_count": null,
   "id": "529856df",
   "metadata": {},
   "outputs": [],
   "source": [
    "n = [2,3,4,55,60,77,100]\n",
    "total = 0\n",
    "for x in n:\n",
    "    total = total+x\n",
    "    print(total,x)\n",
    "print('Total',total)"
   ]
  },
  {
   "cell_type": "code",
   "execution_count": null,
   "id": "e5f7dfca",
   "metadata": {},
   "outputs": [],
   "source": [
    "for i in range(10):\n",
    "    print('data science',i)"
   ]
  },
  {
   "cell_type": "code",
   "execution_count": null,
   "id": "1cf8f59b",
   "metadata": {},
   "outputs": [],
   "source": [
    "for i in range(5,10): #n-1\n",
    "    print('data science',i)"
   ]
  },
  {
   "cell_type": "code",
   "execution_count": null,
   "id": "ac109b2b",
   "metadata": {},
   "outputs": [],
   "source": [
    "for i in range(5,10,2): # i = i+2\n",
    "    print('data science',i)"
   ]
  },
  {
   "cell_type": "code",
   "execution_count": null,
   "id": "dc02a16f",
   "metadata": {},
   "outputs": [],
   "source": [
    "for i in range(100,50,-10): # i = i+2\n",
    "    print('data science',i)"
   ]
  },
  {
   "cell_type": "code",
   "execution_count": null,
   "id": "bd78f1ee",
   "metadata": {},
   "outputs": [],
   "source": [
    "for i in range(100,0,-2): # i = i+2\n",
    "    print(i)"
   ]
  },
  {
   "cell_type": "code",
   "execution_count": null,
   "id": "bb06263c",
   "metadata": {},
   "outputs": [],
   "source": []
  }
 ],
 "metadata": {
  "kernelspec": {
   "display_name": "Python 3",
   "language": "python",
   "name": "python3"
  },
  "language_info": {
   "codemirror_mode": {
    "name": "ipython",
    "version": 3
   },
   "file_extension": ".py",
   "mimetype": "text/x-python",
   "name": "python",
   "nbconvert_exporter": "python",
   "pygments_lexer": "ipython3",
   "version": "3.8.8"
  }
 },
 "nbformat": 4,
 "nbformat_minor": 5
}
