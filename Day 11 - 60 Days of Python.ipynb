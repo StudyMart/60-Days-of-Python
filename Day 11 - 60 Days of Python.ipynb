{
 "cells": [
  {
   "cell_type": "markdown",
   "id": "5f15cfd3",
   "metadata": {},
   "source": [
    "# Nested Loop"
   ]
  },
  {
   "cell_type": "code",
   "execution_count": 1,
   "id": "66dfc25e",
   "metadata": {},
   "outputs": [
    {
     "name": "stdout",
     "output_type": "stream",
     "text": [
      "# \n",
      "# # \n",
      "# # # \n",
      "# # # # \n"
     ]
    }
   ],
   "source": [
    "rows = 4\n",
    "#outer loop\n",
    "for x in range(1,rows+1):\n",
    "    #inner loop\n",
    "    for y in range(1,x+1):\n",
    "        print('#', end=' ')\n",
    "    print('')"
   ]
  },
  {
   "cell_type": "code",
   "execution_count": 2,
   "id": "4fb2ac73",
   "metadata": {},
   "outputs": [
    {
     "name": "stdout",
     "output_type": "stream",
     "text": [
      "1 2 3 4 \n",
      "\n",
      "1 2 3 4 \n",
      "\n",
      "1 2 3 4 \n",
      "\n",
      "1 2 3 4 \n",
      "\n"
     ]
    }
   ],
   "source": [
    "num = [1,2,3,4]\n",
    "\n",
    "#outer\n",
    "for ele in num:\n",
    "    #inner\n",
    "    index=0\n",
    "    while index<len(num):\n",
    "        print(num[index], end=' ')\n",
    "        index= index+1\n",
    "    print('\\n')"
   ]
  },
  {
   "cell_type": "code",
   "execution_count": null,
   "id": "70348d4e",
   "metadata": {},
   "outputs": [],
   "source": []
  }
 ],
 "metadata": {
  "kernelspec": {
   "display_name": "Python 3",
   "language": "python",
   "name": "python3"
  },
  "language_info": {
   "codemirror_mode": {
    "name": "ipython",
    "version": 3
   },
   "file_extension": ".py",
   "mimetype": "text/x-python",
   "name": "python",
   "nbconvert_exporter": "python",
   "pygments_lexer": "ipython3",
   "version": "3.8.8"
  }
 },
 "nbformat": 4,
 "nbformat_minor": 5
}
